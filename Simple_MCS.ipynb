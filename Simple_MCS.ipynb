{
  "cells": [
    {
      "cell_type": "code",
      "execution_count": 1,
      "metadata": {
        "id": "6M9Ou-AxtqtG"
      },
      "outputs": [],
      "source": [
        "import pandas as pd\n",
        "from pandas_datareader import data as pdr\n",
        "import numpy as np\n",
        "import datetime\n",
        "import yfinance as yfin\n",
        "yfin.pdr_override()\n",
        "import matplotlib.pyplot as plt\n",
        "import scipy.stats as stats\n",
        "from scipy.stats import norm\n"
      ]
    },
    {
      "cell_type": "code",
      "execution_count": 2,
      "metadata": {
        "colab": {
          "base_uri": "https://localhost:8080/",
          "height": 436
        },
        "id": "mUlsgu3zuJGt",
        "outputId": "2278f13d-1925-42a9-a6f0-99fee05d3c4b"
      },
      "outputs": [
        {
          "name": "stdout",
          "output_type": "stream",
          "text": [
            "\r[*********************100%%**********************]  1 of 1 completed\n"
          ]
        },
        {
          "data": {
            "text/html": [
              "\n",
              "  <div id=\"df-1c1ecf89-d6e0-4698-95a2-3ca7d59d63de\" class=\"colab-df-container\">\n",
              "    <div>\n",
              "<style scoped>\n",
              "    .dataframe tbody tr th:only-of-type {\n",
              "        vertical-align: middle;\n",
              "    }\n",
              "\n",
              "    .dataframe tbody tr th {\n",
              "        vertical-align: top;\n",
              "    }\n",
              "\n",
              "    .dataframe thead th {\n",
              "        text-align: right;\n",
              "    }\n",
              "</style>\n",
              "<table border=\"1\" class=\"dataframe\">\n",
              "  <thead>\n",
              "    <tr style=\"text-align: right;\">\n",
              "      <th></th>\n",
              "      <th>Date</th>\n",
              "      <th>Open</th>\n",
              "      <th>High</th>\n",
              "      <th>Low</th>\n",
              "      <th>Close</th>\n",
              "      <th>Adj Close</th>\n",
              "      <th>Volume</th>\n",
              "    </tr>\n",
              "  </thead>\n",
              "  <tbody>\n",
              "    <tr>\n",
              "      <th>0</th>\n",
              "      <td>2013-10-07</td>\n",
              "      <td>12.164000</td>\n",
              "      <td>12.448667</td>\n",
              "      <td>12.017333</td>\n",
              "      <td>12.204667</td>\n",
              "      <td>12.204667</td>\n",
              "      <td>172284000</td>\n",
              "    </tr>\n",
              "    <tr>\n",
              "      <th>1</th>\n",
              "      <td>2013-10-08</td>\n",
              "      <td>12.293333</td>\n",
              "      <td>12.395333</td>\n",
              "      <td>11.547333</td>\n",
              "      <td>11.648667</td>\n",
              "      <td>11.648667</td>\n",
              "      <td>206358000</td>\n",
              "    </tr>\n",
              "    <tr>\n",
              "      <th>2</th>\n",
              "      <td>2013-10-09</td>\n",
              "      <td>11.648667</td>\n",
              "      <td>11.666000</td>\n",
              "      <td>10.766667</td>\n",
              "      <td>11.252000</td>\n",
              "      <td>11.252000</td>\n",
              "      <td>229747500</td>\n",
              "    </tr>\n",
              "    <tr>\n",
              "      <th>3</th>\n",
              "      <td>2013-10-10</td>\n",
              "      <td>11.539333</td>\n",
              "      <td>11.716667</td>\n",
              "      <td>11.312667</td>\n",
              "      <td>11.528667</td>\n",
              "      <td>11.528667</td>\n",
              "      <td>133258500</td>\n",
              "    </tr>\n",
              "    <tr>\n",
              "      <th>4</th>\n",
              "      <td>2013-10-11</td>\n",
              "      <td>11.516667</td>\n",
              "      <td>11.952667</td>\n",
              "      <td>11.413333</td>\n",
              "      <td>11.913333</td>\n",
              "      <td>11.913333</td>\n",
              "      <td>124666500</td>\n",
              "    </tr>\n",
              "    <tr>\n",
              "      <th>...</th>\n",
              "      <td>...</td>\n",
              "      <td>...</td>\n",
              "      <td>...</td>\n",
              "      <td>...</td>\n",
              "      <td>...</td>\n",
              "      <td>...</td>\n",
              "      <td>...</td>\n",
              "    </tr>\n",
              "    <tr>\n",
              "      <th>2509</th>\n",
              "      <td>2023-09-26</td>\n",
              "      <td>242.979996</td>\n",
              "      <td>249.550003</td>\n",
              "      <td>241.660004</td>\n",
              "      <td>244.119995</td>\n",
              "      <td>244.119995</td>\n",
              "      <td>101993600</td>\n",
              "    </tr>\n",
              "    <tr>\n",
              "      <th>2510</th>\n",
              "      <td>2023-09-27</td>\n",
              "      <td>244.259995</td>\n",
              "      <td>245.330002</td>\n",
              "      <td>234.580002</td>\n",
              "      <td>240.500000</td>\n",
              "      <td>240.500000</td>\n",
              "      <td>136597200</td>\n",
              "    </tr>\n",
              "    <tr>\n",
              "      <th>2511</th>\n",
              "      <td>2023-09-28</td>\n",
              "      <td>240.020004</td>\n",
              "      <td>247.550003</td>\n",
              "      <td>238.649994</td>\n",
              "      <td>246.380005</td>\n",
              "      <td>246.380005</td>\n",
              "      <td>117058900</td>\n",
              "    </tr>\n",
              "    <tr>\n",
              "      <th>2512</th>\n",
              "      <td>2023-09-29</td>\n",
              "      <td>250.000000</td>\n",
              "      <td>254.770004</td>\n",
              "      <td>246.350006</td>\n",
              "      <td>250.220001</td>\n",
              "      <td>250.220001</td>\n",
              "      <td>128346200</td>\n",
              "    </tr>\n",
              "    <tr>\n",
              "      <th>2513</th>\n",
              "      <td>2023-10-02</td>\n",
              "      <td>244.809998</td>\n",
              "      <td>254.279999</td>\n",
              "      <td>242.619995</td>\n",
              "      <td>251.600006</td>\n",
              "      <td>251.600006</td>\n",
              "      <td>123588100</td>\n",
              "    </tr>\n",
              "  </tbody>\n",
              "</table>\n",
              "<p>2514 rows × 7 columns</p>\n",
              "</div>\n",
              "    <div class=\"colab-df-buttons\">\n",
              "\n",
              "  <div class=\"colab-df-container\">\n",
              "    <button class=\"colab-df-convert\" onclick=\"convertToInteractive('df-1c1ecf89-d6e0-4698-95a2-3ca7d59d63de')\"\n",
              "            title=\"Convert this dataframe to an interactive table.\"\n",
              "            style=\"display:none;\">\n",
              "\n",
              "  <svg xmlns=\"http://www.w3.org/2000/svg\" height=\"24px\" viewBox=\"0 -960 960 960\">\n",
              "    <path d=\"M120-120v-720h720v720H120Zm60-500h600v-160H180v160Zm220 220h160v-160H400v160Zm0 220h160v-160H400v160ZM180-400h160v-160H180v160Zm440 0h160v-160H620v160ZM180-180h160v-160H180v160Zm440 0h160v-160H620v160Z\"/>\n",
              "  </svg>\n",
              "    </button>\n",
              "\n",
              "  <style>\n",
              "    .colab-df-container {\n",
              "      display:flex;\n",
              "      gap: 12px;\n",
              "    }\n",
              "\n",
              "    .colab-df-convert {\n",
              "      background-color: #E8F0FE;\n",
              "      border: none;\n",
              "      border-radius: 50%;\n",
              "      cursor: pointer;\n",
              "      display: none;\n",
              "      fill: #1967D2;\n",
              "      height: 32px;\n",
              "      padding: 0 0 0 0;\n",
              "      width: 32px;\n",
              "    }\n",
              "\n",
              "    .colab-df-convert:hover {\n",
              "      background-color: #E2EBFA;\n",
              "      box-shadow: 0px 1px 2px rgba(60, 64, 67, 0.3), 0px 1px 3px 1px rgba(60, 64, 67, 0.15);\n",
              "      fill: #174EA6;\n",
              "    }\n",
              "\n",
              "    .colab-df-buttons div {\n",
              "      margin-bottom: 4px;\n",
              "    }\n",
              "\n",
              "    [theme=dark] .colab-df-convert {\n",
              "      background-color: #3B4455;\n",
              "      fill: #D2E3FC;\n",
              "    }\n",
              "\n",
              "    [theme=dark] .colab-df-convert:hover {\n",
              "      background-color: #434B5C;\n",
              "      box-shadow: 0px 1px 3px 1px rgba(0, 0, 0, 0.15);\n",
              "      filter: drop-shadow(0px 1px 2px rgba(0, 0, 0, 0.3));\n",
              "      fill: #FFFFFF;\n",
              "    }\n",
              "  </style>\n",
              "\n",
              "    <script>\n",
              "      const buttonEl =\n",
              "        document.querySelector('#df-1c1ecf89-d6e0-4698-95a2-3ca7d59d63de button.colab-df-convert');\n",
              "      buttonEl.style.display =\n",
              "        google.colab.kernel.accessAllowed ? 'block' : 'none';\n",
              "\n",
              "      async function convertToInteractive(key) {\n",
              "        const element = document.querySelector('#df-1c1ecf89-d6e0-4698-95a2-3ca7d59d63de');\n",
              "        const dataTable =\n",
              "          await google.colab.kernel.invokeFunction('convertToInteractive',\n",
              "                                                    [key], {});\n",
              "        if (!dataTable) return;\n",
              "\n",
              "        const docLinkHtml = 'Like what you see? Visit the ' +\n",
              "          '<a target=\"_blank\" href=https://colab.research.google.com/notebooks/data_table.ipynb>data table notebook</a>'\n",
              "          + ' to learn more about interactive tables.';\n",
              "        element.innerHTML = '';\n",
              "        dataTable['output_type'] = 'display_data';\n",
              "        await google.colab.output.renderOutput(dataTable, element);\n",
              "        const docLink = document.createElement('div');\n",
              "        docLink.innerHTML = docLinkHtml;\n",
              "        element.appendChild(docLink);\n",
              "      }\n",
              "    </script>\n",
              "  </div>\n",
              "\n",
              "\n",
              "<div id=\"df-735b00e9-b351-43d7-9dcd-52e4a917c931\">\n",
              "  <button class=\"colab-df-quickchart\" onclick=\"quickchart('df-735b00e9-b351-43d7-9dcd-52e4a917c931')\"\n",
              "            title=\"Suggest charts.\"\n",
              "            style=\"display:none;\">\n",
              "\n",
              "<svg xmlns=\"http://www.w3.org/2000/svg\" height=\"24px\"viewBox=\"0 0 24 24\"\n",
              "     width=\"24px\">\n",
              "    <g>\n",
              "        <path d=\"M19 3H5c-1.1 0-2 .9-2 2v14c0 1.1.9 2 2 2h14c1.1 0 2-.9 2-2V5c0-1.1-.9-2-2-2zM9 17H7v-7h2v7zm4 0h-2V7h2v10zm4 0h-2v-4h2v4z\"/>\n",
              "    </g>\n",
              "</svg>\n",
              "  </button>\n",
              "\n",
              "<style>\n",
              "  .colab-df-quickchart {\n",
              "      --bg-color: #E8F0FE;\n",
              "      --fill-color: #1967D2;\n",
              "      --hover-bg-color: #E2EBFA;\n",
              "      --hover-fill-color: #174EA6;\n",
              "      --disabled-fill-color: #AAA;\n",
              "      --disabled-bg-color: #DDD;\n",
              "  }\n",
              "\n",
              "  [theme=dark] .colab-df-quickchart {\n",
              "      --bg-color: #3B4455;\n",
              "      --fill-color: #D2E3FC;\n",
              "      --hover-bg-color: #434B5C;\n",
              "      --hover-fill-color: #FFFFFF;\n",
              "      --disabled-bg-color: #3B4455;\n",
              "      --disabled-fill-color: #666;\n",
              "  }\n",
              "\n",
              "  .colab-df-quickchart {\n",
              "    background-color: var(--bg-color);\n",
              "    border: none;\n",
              "    border-radius: 50%;\n",
              "    cursor: pointer;\n",
              "    display: none;\n",
              "    fill: var(--fill-color);\n",
              "    height: 32px;\n",
              "    padding: 0;\n",
              "    width: 32px;\n",
              "  }\n",
              "\n",
              "  .colab-df-quickchart:hover {\n",
              "    background-color: var(--hover-bg-color);\n",
              "    box-shadow: 0 1px 2px rgba(60, 64, 67, 0.3), 0 1px 3px 1px rgba(60, 64, 67, 0.15);\n",
              "    fill: var(--button-hover-fill-color);\n",
              "  }\n",
              "\n",
              "  .colab-df-quickchart-complete:disabled,\n",
              "  .colab-df-quickchart-complete:disabled:hover {\n",
              "    background-color: var(--disabled-bg-color);\n",
              "    fill: var(--disabled-fill-color);\n",
              "    box-shadow: none;\n",
              "  }\n",
              "\n",
              "  .colab-df-spinner {\n",
              "    border: 2px solid var(--fill-color);\n",
              "    border-color: transparent;\n",
              "    border-bottom-color: var(--fill-color);\n",
              "    animation:\n",
              "      spin 1s steps(1) infinite;\n",
              "  }\n",
              "\n",
              "  @keyframes spin {\n",
              "    0% {\n",
              "      border-color: transparent;\n",
              "      border-bottom-color: var(--fill-color);\n",
              "      border-left-color: var(--fill-color);\n",
              "    }\n",
              "    20% {\n",
              "      border-color: transparent;\n",
              "      border-left-color: var(--fill-color);\n",
              "      border-top-color: var(--fill-color);\n",
              "    }\n",
              "    30% {\n",
              "      border-color: transparent;\n",
              "      border-left-color: var(--fill-color);\n",
              "      border-top-color: var(--fill-color);\n",
              "      border-right-color: var(--fill-color);\n",
              "    }\n",
              "    40% {\n",
              "      border-color: transparent;\n",
              "      border-right-color: var(--fill-color);\n",
              "      border-top-color: var(--fill-color);\n",
              "    }\n",
              "    60% {\n",
              "      border-color: transparent;\n",
              "      border-right-color: var(--fill-color);\n",
              "    }\n",
              "    80% {\n",
              "      border-color: transparent;\n",
              "      border-right-color: var(--fill-color);\n",
              "      border-bottom-color: var(--fill-color);\n",
              "    }\n",
              "    90% {\n",
              "      border-color: transparent;\n",
              "      border-bottom-color: var(--fill-color);\n",
              "    }\n",
              "  }\n",
              "</style>\n",
              "\n",
              "  <script>\n",
              "    async function quickchart(key) {\n",
              "      const quickchartButtonEl =\n",
              "        document.querySelector('#' + key + ' button');\n",
              "      quickchartButtonEl.disabled = true;  // To prevent multiple clicks.\n",
              "      quickchartButtonEl.classList.add('colab-df-spinner');\n",
              "      try {\n",
              "        const charts = await google.colab.kernel.invokeFunction(\n",
              "            'suggestCharts', [key], {});\n",
              "      } catch (error) {\n",
              "        console.error('Error during call to suggestCharts:', error);\n",
              "      }\n",
              "      quickchartButtonEl.classList.remove('colab-df-spinner');\n",
              "      quickchartButtonEl.classList.add('colab-df-quickchart-complete');\n",
              "    }\n",
              "    (() => {\n",
              "      let quickchartButtonEl =\n",
              "        document.querySelector('#df-735b00e9-b351-43d7-9dcd-52e4a917c931 button');\n",
              "      quickchartButtonEl.style.display =\n",
              "        google.colab.kernel.accessAllowed ? 'block' : 'none';\n",
              "    })();\n",
              "  </script>\n",
              "</div>\n",
              "    </div>\n",
              "  </div>\n"
            ],
            "text/plain": [
              "           Date        Open        High         Low       Close   Adj Close  \\\n",
              "0    2013-10-07   12.164000   12.448667   12.017333   12.204667   12.204667   \n",
              "1    2013-10-08   12.293333   12.395333   11.547333   11.648667   11.648667   \n",
              "2    2013-10-09   11.648667   11.666000   10.766667   11.252000   11.252000   \n",
              "3    2013-10-10   11.539333   11.716667   11.312667   11.528667   11.528667   \n",
              "4    2013-10-11   11.516667   11.952667   11.413333   11.913333   11.913333   \n",
              "...         ...         ...         ...         ...         ...         ...   \n",
              "2509 2023-09-26  242.979996  249.550003  241.660004  244.119995  244.119995   \n",
              "2510 2023-09-27  244.259995  245.330002  234.580002  240.500000  240.500000   \n",
              "2511 2023-09-28  240.020004  247.550003  238.649994  246.380005  246.380005   \n",
              "2512 2023-09-29  250.000000  254.770004  246.350006  250.220001  250.220001   \n",
              "2513 2023-10-02  244.809998  254.279999  242.619995  251.600006  251.600006   \n",
              "\n",
              "         Volume  \n",
              "0     172284000  \n",
              "1     206358000  \n",
              "2     229747500  \n",
              "3     133258500  \n",
              "4     124666500  \n",
              "...         ...  \n",
              "2509  101993600  \n",
              "2510  136597200  \n",
              "2511  117058900  \n",
              "2512  128346200  \n",
              "2513  123588100  \n",
              "\n",
              "[2514 rows x 7 columns]"
            ]
          },
          "execution_count": 2,
          "metadata": {},
          "output_type": "execute_result"
        }
      ],
      "source": [
        "end_date = datetime.datetime.now()\n",
        "start_date = end_date - datetime.timedelta(days=3650)\n",
        "\n",
        "# This function gets all the data for a ticker\n",
        "def get_data(ticker):\n",
        "    asset = pdr.get_data_yahoo(ticker, start = start_date, end = end_date)\n",
        "    asset.reset_index(inplace = True) # To make the date a column\n",
        "    return asset\n",
        "\n",
        "tsla = get_data('TSLA')\n",
        "tsla"
      ]
    },
    {
      "cell_type": "code",
      "execution_count": 3,
      "metadata": {
        "colab": {
          "base_uri": "https://localhost:8080/",
          "height": 430
        },
        "id": "gQEt6KF8vVKL",
        "outputId": "fb319b15-c581-4d26-ad9e-9dffa906a79b"
      },
      "outputs": [
        {
          "data": {
            "image/png": "[encoded data removed]",
            "text/plain": [
              "<Figure size 640x480 with 1 Axes>"
            ]
          },
          "metadata": {},
          "output_type": "display_data"
        }
      ],
      "source": [
        "plt.plot(tsla['Date'], tsla['Adj Close'])\n",
        "plt.show()"
      ]
    },
    {
      "cell_type": "code",
      "execution_count": 4,
      "metadata": {
        "colab": {
          "base_uri": "https://localhost:8080/"
        },
        "id": "_TCxNejdvkBP",
        "outputId": "86faa145-d1e3-4a38-9f86-ce4940b1cbc9"
      },
      "outputs": [
        {
          "data": {
            "text/plain": [
              "0            NaN\n",
              "1      -0.046627\n",
              "2      -0.034646\n",
              "3       0.024291\n",
              "4       0.032821\n",
              "          ...   \n",
              "2509   -0.011688\n",
              "2510   -0.014940\n",
              "2511    0.024155\n",
              "2512    0.015465\n",
              "2513    0.005500\n",
              "Name: Adj Close, Length: 2514, dtype: float64"
            ]
          },
          "execution_count": 4,
          "metadata": {},
          "output_type": "execute_result"
        }
      ],
      "source": [
        "# This represents the historic log returns for the stock\n",
        "log_returns = np.log(1 + tsla['Adj Close'].pct_change())\n",
        "log_returns"
      ]
    },
    {
      "cell_type": "code",
      "execution_count": 5,
      "metadata": {
        "colab": {
          "base_uri": "https://localhost:8080/",
          "height": 433
        },
        "id": "PBSKS9gIwYH2",
        "outputId": "6ca84562-eead-4f19-fad4-c7ea2ceaa5b7"
      },
      "outputs": [
        {
          "data": {
            "image/png": "[encoded data removed]",
            "text/plain": [
              "<Figure size 640x480 with 1 Axes>"
            ]
          },
          "metadata": {},
          "output_type": "display_data"
        }
      ],
      "source": [
        "'''In the second plot, we plot the log returns, not the price, of TSLA.\n",
        "The picture tells us the returns are normally distributed and have a stable mean'''\n",
        "plt.plot(log_returns)\n",
        "plt.show()"
      ]
    },
    {
      "cell_type": "code",
      "execution_count": 6,
      "metadata": {
        "colab": {
          "base_uri": "https://localhost:8080/"
        },
        "id": "AxdO_ecnw80b",
        "outputId": "5c0c45d2-4082-4240-e76b-41d08f5daaa1"
      },
      "outputs": [
        {
          "data": {
            "text/plain": [
              "0.001204147282939104"
            ]
          },
          "execution_count": 6,
          "metadata": {},
          "output_type": "execute_result"
        }
      ],
      "source": [
        "mu = log_returns.mean()\n",
        "var = log_returns.var()\n",
        "mu"
      ]
    },
    {
      "cell_type": "code",
      "execution_count": 7,
      "metadata": {
        "colab": {
          "base_uri": "https://localhost:8080/"
        },
        "id": "3F52jnp6xrRo",
        "outputId": "9326fee5-94d3-426d-b999-6b5490c3bf60"
      },
      "outputs": [
        {
          "data": {
            "text/plain": [
              "numpy.float64"
            ]
          },
          "execution_count": 7,
          "metadata": {},
          "output_type": "execute_result"
        }
      ],
      "source": [
        "drift = mu - var/2\n",
        "drift.dtype\n",
        "type(drift)"
      ]
    },
    {
      "cell_type": "code",
      "execution_count": 8,
      "metadata": {
        "colab": {
          "base_uri": "https://localhost:8080/"
        },
        "id": "JAmdxdptxz-r",
        "outputId": "7112d8b0-b18b-416f-a5b6-f0ea32498825"
      },
      "outputs": [
        {
          "data": {
            "text/plain": [
              "numpy.float64"
            ]
          },
          "execution_count": 8,
          "metadata": {},
          "output_type": "execute_result"
        }
      ],
      "source": [
        "std_dev = log_returns.std()\n",
        "type(std_dev)"
      ]
    },
    {
      "cell_type": "code",
      "execution_count": 9,
      "metadata": {
        "colab": {
          "base_uri": "https://localhost:8080/"
        },
        "id": "kufq1ALrywGJ",
        "outputId": "abb757cd-2071-461c-d61c-a3c19a691210"
      },
      "outputs": [
        {
          "data": {
            "text/plain": [
              "numpy.ndarray"
            ]
          },
          "execution_count": 9,
          "metadata": {},
          "output_type": "execute_result"
        }
      ],
      "source": [
        "drift = np.array(drift)\n",
        "type(drift)"
      ]
    },
    {
      "cell_type": "code",
      "execution_count": 10,
      "metadata": {
        "colab": {
          "base_uri": "https://localhost:8080/"
        },
        "id": "6NAkUt4q5tY2",
        "outputId": "db381851-7dda-4d50-b5ce-cfb08cbb2242"
      },
      "outputs": [
        {
          "data": {
            "text/plain": [
              "array(0.03539275)"
            ]
          },
          "execution_count": 10,
          "metadata": {},
          "output_type": "execute_result"
        }
      ],
      "source": [
        "std_dev = np.array(std_dev)\n",
        "std_dev"
      ]
    },
    {
      "cell_type": "code",
      "execution_count": 11,
      "metadata": {
        "colab": {
          "base_uri": "https://localhost:8080/"
        },
        "id": "DgtYwjGgy6HP",
        "outputId": "4aeddd88-75a0-4876-d6e7-e37200cb4583"
      },
      "outputs": [
        {
          "data": {
            "text/plain": [
              "1.6448536269514722"
            ]
          },
          "execution_count": 11,
          "metadata": {},
          "output_type": "execute_result"
        }
      ],
      "source": [
        "norm.ppf(0.95)\n",
        "#If an event has a 95% chance of occurring, the distance between this event and the mean will be approximately 1.65 standard deviations,"
      ]
    },
    {
      "cell_type": "code",
      "execution_count": 12,
      "metadata": {
        "id": "VP21R0Jn0kqr"
      },
      "outputs": [],
      "source": [
        "''''We would like to specify the time intervals we will use will be 1,000,\n",
        "because we are interested in forecasting the stock price for the upcoming 1,000 days\n",
        "Then, to “iterations” I will attribute the value of 10, which means we will ask the\n",
        "computer to produce 10 series of future stock price predictions'''\n",
        "t_intervals = 1000\n",
        "iterations = 10"
      ]
    },
    {
      "cell_type": "code",
      "execution_count": 13,
      "metadata": {
        "colab": {
          "base_uri": "https://localhost:8080/"
        },
        "id": "69669RLJ3N3p",
        "outputId": "66d1c830-2e97-4bb1-bc02-7f9832297e68"
      },
      "outputs": [
        {
          "data": {
            "text/plain": [
              "array([[1.01927837, 1.01783694, 1.00301288, ..., 0.96748791, 0.99027608,\n",
              "        1.01736986],\n",
              "       [1.02113785, 0.99154349, 0.97077514, ..., 1.00953355, 1.02665813,\n",
              "        1.00307978],\n",
              "       [1.01979685, 0.99319305, 1.05212936, ..., 1.02062242, 0.99481696,\n",
              "        0.98658602],\n",
              "       ...,\n",
              "       [0.99523346, 0.99673036, 1.01634916, ..., 1.01436033, 0.99631267,\n",
              "        0.95453807],\n",
              "       [0.99664337, 0.97046871, 1.03323793, ..., 1.02273675, 0.99072785,\n",
              "        1.02754788],\n",
              "       [1.00194878, 1.04015931, 1.04248655, ..., 0.95132739, 0.9778385 ,\n",
              "        1.0124797 ]])"
            ]
          },
          "execution_count": 13,
          "metadata": {},
          "output_type": "execute_result"
        }
      ],
      "source": [
        "daily_returns = np.exp(drift + std_dev * norm.ppf(np.random.rand(t_intervals, iterations)))\n",
        "daily_returns"
      ]
    },
    {
      "cell_type": "code",
      "execution_count": 14,
      "metadata": {
        "colab": {
          "base_uri": "https://localhost:8080/"
        },
        "id": "I7bJYljR9TPu",
        "outputId": "a1498846-2afa-4eda-904e-24b5bb89ad72"
      },
      "outputs": [
        {
          "data": {
            "text/plain": [
              "251.60000610351562"
            ]
          },
          "execution_count": 14,
          "metadata": {},
          "output_type": "execute_result"
        }
      ],
      "source": [
        "S0 = tsla.iloc[-1]['Adj Close']\n",
        "S0"
      ]
    },
    {
      "cell_type": "code",
      "execution_count": 15,
      "metadata": {
        "colab": {
          "base_uri": "https://localhost:8080/"
        },
        "id": "BvvJd1Fh99Li",
        "outputId": "4a57e835-b2bd-4ac9-ad67-4dbc8d6b6f75"
      },
      "outputs": [
        {
          "data": {
            "text/plain": [
              "array([[0., 0., 0., ..., 0., 0., 0.],\n",
              "       [0., 0., 0., ..., 0., 0., 0.],\n",
              "       [0., 0., 0., ..., 0., 0., 0.],\n",
              "       ...,\n",
              "       [0., 0., 0., ..., 0., 0., 0.],\n",
              "       [0., 0., 0., ..., 0., 0., 0.],\n",
              "       [0., 0., 0., ..., 0., 0., 0.]])"
            ]
          },
          "execution_count": 15,
          "metadata": {},
          "output_type": "execute_result"
        }
      ],
      "source": [
        "price_list = np.zeros_like(daily_returns)\n",
        "price_list"
      ]
    },
    {
      "cell_type": "code",
      "execution_count": 16,
      "metadata": {
        "colab": {
          "base_uri": "https://localhost:8080/"
        },
        "id": "ARs8ygFm-GQ4",
        "outputId": "06e2b805-2512-4b5a-a9d7-8977bd7bd2fd"
      },
      "outputs": [
        {
          "data": {
            "text/plain": [
              "array([[251.6000061, 251.6000061, 251.6000061, ..., 251.6000061,\n",
              "        251.6000061, 251.6000061],\n",
              "       [  0.       ,   0.       ,   0.       , ...,   0.       ,\n",
              "          0.       ,   0.       ],\n",
              "       [  0.       ,   0.       ,   0.       , ...,   0.       ,\n",
              "          0.       ,   0.       ],\n",
              "       ...,\n",
              "       [  0.       ,   0.       ,   0.       , ...,   0.       ,\n",
              "          0.       ,   0.       ],\n",
              "       [  0.       ,   0.       ,   0.       , ...,   0.       ,\n",
              "          0.       ,   0.       ],\n",
              "       [  0.       ,   0.       ,   0.       , ...,   0.       ,\n",
              "          0.       ,   0.       ]])"
            ]
          },
          "execution_count": 16,
          "metadata": {},
          "output_type": "execute_result"
        }
      ],
      "source": [
        "price_list[0] = S0\n",
        "price_list"
      ]
    },
    {
      "cell_type": "code",
      "execution_count": 17,
      "metadata": {
        "colab": {
          "base_uri": "https://localhost:8080/"
        },
        "id": "02gPoxWr-UMg",
        "outputId": "a66c3edd-688d-424e-f765-542e413e6f34"
      },
      "outputs": [
        {
          "data": {
            "text/plain": [
              "array([[ 251.6000061 ,  251.6000061 ,  251.6000061 , ...,  251.6000061 ,\n",
              "         251.6000061 ,  251.6000061 ],\n",
              "       [ 256.91829048,  249.47234861,  244.24703211, ...,  253.99864706,\n",
              "         258.30719174,  252.37487975],\n",
              "       [ 262.00446355,  247.77420159,  256.97947247, ...,  259.23671293,\n",
              "         256.96837474,  248.98952924],\n",
              "       ...,\n",
              "       [ 114.86058578, 1538.06163388,  259.85599397, ...,  313.49483816,\n",
              "        3080.65727824,  242.46985723],\n",
              "       [ 114.47504102, 1492.6406962 ,  268.49306819, ...,  320.62269074,\n",
              "        3052.09294984,  249.14938887],\n",
              "       [ 114.69812746, 1552.58412198,  279.90041154, ...,  305.01714823,\n",
              "        2984.45398761,  252.25869812]])"
            ]
          },
          "execution_count": 17,
          "metadata": {},
          "output_type": "execute_result"
        }
      ],
      "source": [
        "for t in range(1, t_intervals):\n",
        "    price_list[t] = price_list[t - 1] * daily_returns[t]\n",
        "\n",
        "price_list"
      ]
    },
    {
      "cell_type": "code",
      "execution_count": 18,
      "metadata": {
        "colab": {
          "base_uri": "https://localhost:8080/",
          "height": 449
        },
        "id": "UbgGmFNs-lyB",
        "outputId": "acf99f36-4fc6-453a-9ecf-e55627fb00c7"
      },
      "outputs": [
        {
          "data": {
            "image/png": "[encoded data removed]",
            "text/plain": [
              "<Figure size 640x480 with 1 Axes>"
            ]
          },
          "metadata": {},
          "output_type": "display_data"
        }
      ],
      "source": [
        "plt.plot(price_list)\n",
        "plt.xlabel('Days')\n",
        "plt.ylabel('Price')\n",
        "\n",
        "plt.show()"
      ]
    }
  ],
  "metadata": {
    "colab": {
      "provenance": []
    },
    "kernelspec": {
      "display_name": "Python 3",
      "name": "python3"
    },
    "language_info": {
      "name": "python"
    }
  },
  "nbformat": 4,
  "nbformat_minor": 0
}
